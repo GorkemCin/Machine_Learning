{
 "cells": [
  {
   "cell_type": "markdown",
   "id": "10767abf",
   "metadata": {},
   "source": [
    "<span style=\"color: red; font-size: 30px;\">\n",
    "<strong>Machine Learning - Supervised Learning - Multiple Linear Regression</strong>\n",
    "</span> "
   ]
  },
  {
   "cell_type": "markdown",
   "id": "a8fd502b",
   "metadata": {},
   "source": [
    "## 📚 **Table of Contents / İçindekiler**\n",
    "\n",
    "1. 🔍 **Supervised Learning** / _Denetimli Öğrenme_  \n",
    "2. 📈 **What is Regression?** / _Regresyon Nedir?_  \n",
    "3. 📊 **Multiple Linear Regression** / _Çoklu Doğrusal Regresyon_  \n",
    "4. 📁 **Dataset Overview** / _Veri Seti Genel Bakış_  \n",
    "5. 🧾 **Reading the Dataset** / _Veri Seti Okuma_  \n",
    "6. 🧪 **Exploratory Data Analysis (EDA)** / _Keşifsel Veri Analizi_  \n",
    "7. 🛠️ **Feature Engineering** / _Özellik Mühendisliği_  \n",
    "8. 🧹 **Data Preprocessing** / _Veri Ön İşleme_  \n",
    "9. 🔗 **Correlation Analysis** / _Korelasyon Analizi_\n",
    "10.  🔎 **Skewness & Outlier Detection** / _Çarpıklık ve Aykırı Değer Tespiti_\n",
    "11.  🔄 **Data Normalization** / _Verileri Normalize Etme_\n",
    "12.  ✂️ **Train/Test Split İşlemi** / _Train/Test Split Process_\n",
    "13. 🔍 **Skewness & Outlier Check** / _Çarpıklık ve Aykırı Değer Kontrolü_ \n",
    "14. 🔢 **Regression Model Evaluation & Training** / _Regresyon Modeli Değerlendirme & Train Etme_\n",
    "15.  📈 **Model Prediction Results (Actual & Predicted)** / _Model Tahmin Sonuçları (Gerçek & Tahmin)_\n",
    "16.  📊 **Model Performance Metrics** / _Model Performans Metrikleri_\n",
    "17.  🛠 **Regularization Techniques & Model Performance Improvement** / _Regülizasyon Teknikleri - L1(Lasso) & L2(Ridge) & ElasticNet(L1 + L2) & Model Performans İyileştirme_\n",
    "18. 🏔 **Ridge Model Prediction & Metrics Test** / _Ridge Model ile Tahmin ve Metrik Test_\n"
   ]
  },
  {
   "cell_type": "markdown",
   "id": "6654d4c1",
   "metadata": {},
   "source": [
    "## 1. 🔍 **Supervised Learning** / _Denetimli Öğrenme_ \n",
    "\n",
    "Bu çalışmada Supervised Learning (Denetimli Öğrenme) yöntemlerinden biri olan **Multiple Linear Regression** kullanılmıştır.\n",
    "\n",
    "Supervised Learning, modelin hem giriş (X) hem de çıkış (Y) verilerini bildiği durumlarda uygulanır. Amaç, geçmiş verilere bakarak gelecek için tahminler yapmaktır.\n",
    "\n",
    "### 📘 Supervised Learning Yapısı:\n",
    "\n",
    "- **X (giriş)** → Özellikler (örnek: metrekare, oda sayısı)\n",
    "- **Y (çıkış)** → Hedef (örnek: evin fiyatı)\n",
    "\n",
    "Model, X ile Y arasındaki ilişkiyi öğrenir ve sonra yeni X’lere karşılık gelecek Y’yi tahmin etmeye çalışır.\n",
    "\n",
    "### 🔍 Kullanılan Algoritma: Multiple Linear Regression\n",
    "\n",
    "Bu projede, birden fazla değişken kullanılarak sayısal bir değerin (örneğin fiyatın) tahmini yapılacaktır. Yani bu bir regresyon problemidir.\n",
    "\n",
    "> Bu çalışma, Supervised Learning altında bir regresyon örneğidir.\n"
   ]
  },
  {
   "cell_type": "markdown",
   "id": "1da832be",
   "metadata": {},
   "source": [
    "## 2. 📈 **What is Regression?** / _Regresyon Nedir?_ \n",
    "\n",
    "Regresyon, elimdeki verileri kullanarak bir şeyi tahmin etmemi sağlayan bir yöntemdir. Özellikle sayısal (rakamlarla ifade edilen) değerleri tahmin etmek için kullanılır.\n",
    "\n",
    "Bir ya da birden fazla değişken (bağımsız değişken) ile, tahmin etmek istediğimiz hedef (bağımlı değişken) arasında nasıl bir ilişki olduğunu bulmaya çalışırız.\n",
    "\n",
    "### Örnek:\n",
    "Metrekare ve oda sayısına göre ev fiyatını tahmin etmek istiyorsam, bu bir regresyon problemidir.\n",
    "\n",
    "### Regresyon Türleri 📘\n",
    "\n",
    "- **Simple Linear Regression** → Tek değişkenle tahmin yapılır.  \n",
    "- **Multiple Linear Regression** → Birden fazla değişkenle tahmin yapılır.  \n",
    "- **Polynomial Regression** → X ile Y arasında eğri şeklinde bir ilişki varsa kullanılır.  \n",
    "- **Ridge & Lasso Regression** → Çoklu değişkenlerde overfitting’i önlemek için kullanılır.  \n",
    "- **Logistic Regression** → Tahmin edilen çıktı sayısal değil, kategori (0/1) ise kullanılır.  \n",
    "\n",
    "### Nerelerde Kullanılır? 📘\n",
    "- Ev ya da araba fiyatı tahminlerinde\n",
    "- Öğrenci notlarını tahmin etmede\n",
    "- Satış ve gelir tahminlerinde\n",
    "- Sağlık verilerinde\n",
    "\n",
    "### Kısacası, regresyon sayesinde geçmiş verilere bakarak geleceği tahmin etmeye çalışırız.\n"
   ]
  },
  {
   "cell_type": "markdown",
   "id": "26d5e78a",
   "metadata": {},
   "source": [
    "## 3. 📊 **Multiple Linear Regression** / _Çoklu Doğrusal Regresyon_  \n",
    "\n",
    "Multiple Linear Regression (Çoklu Doğrusal Regresyon), birden fazla bağımsız değişken kullanarak bir bağımlı değişkeni tahmin etmemizi sağlayan bir regresyon türüdür.\n",
    "\n",
    "Yani sadece tek bir faktöre değil, birden çok özelliğe (X1, X2, X3...) bakarak tahmin yaparız. Örneğin, bir evin fiyatını sadece metrekareye göre değil; oda sayısı, bina yaşı ve konum gibi birden fazla özelliğe göre tahmin edebiliriz.\n",
    "\n",
    "### 📘 Matematiksel Gösterimi:\n",
    "\n",
    "\\[\n",
    "Y = β₀ + β₁X₁ + β₂X₂ + β₃X₃ + ... + βₙXₙ + ε\n",
    "\\]\n",
    "\n",
    "- **Y** → Tahmin edilen hedef değişken (örneğin ev fiyatı)\n",
    "- **X₁, X₂, ..., Xₙ** → Bağımsız değişkenler (örneğin metrekare, oda sayısı vs.)\n",
    "- **β₀** → Sabit (intercept)\n",
    "- **β₁, ..., βₙ** → Katsayılar (her X'in modele etkisi)\n",
    "- **ε** → Hata payı\n",
    "\n",
    "### 🎯 Ne zaman Kullanılır?\n",
    "\n",
    "- Birden fazla faktör, sonucu etkiliyorsa\n",
    "- Sayısal değer tahmini yapılmak isteniyorsa\n",
    "- Veriler arasında doğrusal bir ilişki olduğu düşünülüyorsa\n",
    "\n",
    "### 🔧 Örnek Uygulama:\n",
    "\n",
    "Evin metrekare, oda sayısı ve bina yaşı gibi bilgilerine bakarak evin fiyatını tahmin etmek istiyorsak, Multiple Linear Regression tam olarak bu iş için uygundur.\n",
    "\n",
    "> Kısacası: Birden fazla değişkenle sayısal tahmin yapmak istiyorsak Multiple Linear Regression kullanırız.\n"
   ]
  },
  {
   "cell_type": "markdown",
   "id": "fe1cf31d",
   "metadata": {},
   "source": [
    "### 🔍 Multiple Linear Regression\n",
    "\n",
    "Bu projede, birden fazla değişken kullanılarak sayısal bir değerin (örneğin fiyatın) tahmini yapılacaktır. Yani bu bir regresyon problemidir.\n",
    "\n",
    "<span style=\"color: red; font-size: 30px;\">\n",
    "<strong>Şimdi biz burada bir dataset ile, Multiple Linear Regression ile bir Proje yapacağız.</strong>\n",
    "</span>"
   ]
  },
  {
   "cell_type": "markdown",
   "id": "47f79fe7",
   "metadata": {},
   "source": [
    "## 4. 📁 **Dataset Overview** / _Veri Seti Genel Bakış_ \n",
    "\n",
    "- Proje: Student Performance – Multiple Linear Regression\n",
    "- Veri seti Kaggle üzerinden alınmıştır.\n",
    "- [Veri Seti Linki](https://www.kaggle.com/datasets/nikhil7280/student-performance-multiple-linear-regression)\n",
    "\n",
    "> Bu projede Multiple Linear Regression modeli ile tahmin yapılacaktır.\n",
    "\n",
    "# Proje: Student_Performance Detaylı Anlatım:\n",
    "\n",
    "### 📘 Veri Setinin Konusu\n",
    "\n",
    "Veri seti, öğrencilerin akademik başarılarını etkileyen çeşitli faktörleri içermektedir.  \n",
    "Amaç, öğrencinin sınav notunu (Marks) tahmin etmek için bağımsız değişkenleri kullanarak bir **Multiple Linear Regression** modeli oluşturmaktır.\n",
    "\n",
    "### 📊 Sütunlar (Değişkenler)\n",
    "\n",
    "- `Hours Studied`: Öğrencinin ne kadar çalıştığı\n",
    "- `Previous Scores`: Önceki sınavdan aldığı not\n",
    "- `Extracurricular Activities`: Ekstra aktivitelerde yer alıp almadığı\n",
    "- `Sleep Hours`: Uyku süresi\n",
    "- `Sample Question Papers Practiced`: Kaç tane örnek soru çözdüğü\n",
    "- `Performance Index`: Öğrencinin genel başarı puanı (**hedef değişken**)\n",
    "\n",
    "## 🎯 Hedef\n",
    "\n",
    "Bu proje kapsamında, öğrencilerin sınavdan aldığı puanı yukarıdaki değişkenlere bakarak tahmin etmek için **Çoklu Doğrusal Regresyon (Multiple Linear Regression)** modeli kurulacaktır.\n",
    "\n",
    "> Yani, birden fazla faktör birlikte değerlendirilerek bir tahmin yapılacaktır."
   ]
  },
  {
   "cell_type": "markdown",
   "id": "07d08d59",
   "metadata": {},
   "source": [
    "## 5. 🧾 **Reading the Dataset** / _Veri Seti Okuma_ "
   ]
  },
  {
   "cell_type": "code",
   "execution_count": 81,
   "id": "b17fb5da",
   "metadata": {},
   "outputs": [],
   "source": [
    "# Gerekli kütüphaneleri projeye dahil ediyoruz.\n",
    "# Çalışmamızda veri analizi için `pandas`, sayısal işlemler için `numpy` kütüphanelerini kullanıyoruz.\n",
    "import pandas as pd # Veri analizi ve veri işleme için kullanılır.\n",
    "import numpy as np  # Sayısal işlemler ve matematiksel fonksiyonlar için kullanılır."
   ]
  },
  {
   "cell_type": "code",
   "execution_count": 82,
   "id": "a6ecf97c",
   "metadata": {},
   "outputs": [
    {
     "data": {
      "text/html": [
       "<div>\n",
       "<style scoped>\n",
       "    .dataframe tbody tr th:only-of-type {\n",
       "        vertical-align: middle;\n",
       "    }\n",
       "\n",
       "    .dataframe tbody tr th {\n",
       "        vertical-align: top;\n",
       "    }\n",
       "\n",
       "    .dataframe thead th {\n",
       "        text-align: right;\n",
       "    }\n",
       "</style>\n",
       "<table border=\"1\" class=\"dataframe\">\n",
       "  <thead>\n",
       "    <tr style=\"text-align: right;\">\n",
       "      <th></th>\n",
       "      <th>Hours Studied</th>\n",
       "      <th>Previous Scores</th>\n",
       "      <th>Extracurricular Activities</th>\n",
       "      <th>Sleep Hours</th>\n",
       "      <th>Sample Question Papers Practiced</th>\n",
       "      <th>Performance Index</th>\n",
       "    </tr>\n",
       "  </thead>\n",
       "  <tbody>\n",
       "    <tr>\n",
       "      <th>0</th>\n",
       "      <td>7</td>\n",
       "      <td>99</td>\n",
       "      <td>Yes</td>\n",
       "      <td>9</td>\n",
       "      <td>1</td>\n",
       "      <td>91.0</td>\n",
       "    </tr>\n",
       "    <tr>\n",
       "      <th>1</th>\n",
       "      <td>4</td>\n",
       "      <td>82</td>\n",
       "      <td>No</td>\n",
       "      <td>4</td>\n",
       "      <td>2</td>\n",
       "      <td>65.0</td>\n",
       "    </tr>\n",
       "    <tr>\n",
       "      <th>2</th>\n",
       "      <td>8</td>\n",
       "      <td>51</td>\n",
       "      <td>Yes</td>\n",
       "      <td>7</td>\n",
       "      <td>2</td>\n",
       "      <td>45.0</td>\n",
       "    </tr>\n",
       "    <tr>\n",
       "      <th>3</th>\n",
       "      <td>5</td>\n",
       "      <td>52</td>\n",
       "      <td>Yes</td>\n",
       "      <td>5</td>\n",
       "      <td>2</td>\n",
       "      <td>36.0</td>\n",
       "    </tr>\n",
       "    <tr>\n",
       "      <th>4</th>\n",
       "      <td>7</td>\n",
       "      <td>75</td>\n",
       "      <td>No</td>\n",
       "      <td>8</td>\n",
       "      <td>5</td>\n",
       "      <td>66.0</td>\n",
       "    </tr>\n",
       "  </tbody>\n",
       "</table>\n",
       "</div>"
      ],
      "text/plain": [
       "   Hours Studied  Previous Scores Extracurricular Activities  Sleep Hours  \\\n",
       "0              7               99                        Yes            9   \n",
       "1              4               82                         No            4   \n",
       "2              8               51                        Yes            7   \n",
       "3              5               52                        Yes            5   \n",
       "4              7               75                         No            8   \n",
       "\n",
       "   Sample Question Papers Practiced  Performance Index  \n",
       "0                                 1               91.0  \n",
       "1                                 2               65.0  \n",
       "2                                 2               45.0  \n",
       "3                                 2               36.0  \n",
       "4                                 5               66.0  "
      ]
     },
     "execution_count": 82,
     "metadata": {},
     "output_type": "execute_result"
    }
   ],
   "source": [
    "# Veri setini okuyoruz ve bir DataFrame'e aktarıyoruz\n",
    "# Verinin ilk 5 satırını görüntülüyoruz ve kontrol etmiş oluyoruz\n",
    "student_df = pd.read_csv(\n",
    "    filepath_or_buffer='data/Student_Performance.csv'\n",
    ")\n",
    "student_df.head()"
   ]
  },
  {
   "cell_type": "markdown",
   "id": "8f1f1208",
   "metadata": {},
   "source": [
    "## 6. 🧪 **Exploratory Data Analysis (EDA)** / _Keşifsel Veri Analizi_ "
   ]
  },
  {
   "cell_type": "code",
   "execution_count": 83,
   "id": "938df719",
   "metadata": {},
   "outputs": [
    {
     "data": {
      "text/plain": [
       "Hours Studied                         int64\n",
       "Previous Scores                       int64\n",
       "Extracurricular Activities           object\n",
       "Sleep Hours                           int64\n",
       "Sample Question Papers Practiced      int64\n",
       "Performance Index                   float64\n",
       "dtype: object"
      ]
     },
     "execution_count": 83,
     "metadata": {},
     "output_type": "execute_result"
    }
   ],
   "source": [
    "# Veri tiplerini inceliyoruz.\n",
    "student_df.dtypes"
   ]
  },
  {
   "cell_type": "code",
   "execution_count": 84,
   "id": "7cdb75fd",
   "metadata": {},
   "outputs": [
    {
     "data": {
      "text/plain": [
       "(10000, 6)"
      ]
     },
     "execution_count": 84,
     "metadata": {},
     "output_type": "execute_result"
    }
   ],
   "source": [
    "# 10.000 satır ve 6 sütunumuz bulunmaktadır.\n",
    "student_df.shape"
   ]
  },
  {
   "cell_type": "code",
   "execution_count": 85,
   "id": "e46a5837",
   "metadata": {},
   "outputs": [
    {
     "name": "stdout",
     "output_type": "stream",
     "text": [
      "<class 'pandas.core.frame.DataFrame'>\n",
      "RangeIndex: 10000 entries, 0 to 9999\n",
      "Data columns (total 6 columns):\n",
      " #   Column                            Non-Null Count  Dtype  \n",
      "---  ------                            --------------  -----  \n",
      " 0   Hours Studied                     10000 non-null  int64  \n",
      " 1   Previous Scores                   10000 non-null  int64  \n",
      " 2   Extracurricular Activities        10000 non-null  object \n",
      " 3   Sleep Hours                       10000 non-null  int64  \n",
      " 4   Sample Question Papers Practiced  10000 non-null  int64  \n",
      " 5   Performance Index                 10000 non-null  float64\n",
      "dtypes: float64(1), int64(4), object(1)\n",
      "memory usage: 468.9+ KB\n"
     ]
    }
   ],
   "source": [
    "# Veri setinin genel yapısını, sütun isimlerini, veri tiplerini ve eksik değerleri özet olarak gösterir.\n",
    "student_df.info()"
   ]
  },
  {
   "cell_type": "code",
   "execution_count": 86,
   "id": "859d8b90",
   "metadata": {},
   "outputs": [
    {
     "data": {
      "text/plain": [
       "Hours Studied                       0\n",
       "Previous Scores                     0\n",
       "Extracurricular Activities          0\n",
       "Sleep Hours                         0\n",
       "Sample Question Papers Practiced    0\n",
       "Performance Index                   0\n",
       "dtype: int64"
      ]
     },
     "execution_count": 86,
     "metadata": {},
     "output_type": "execute_result"
    }
   ],
   "source": [
    "# Missing Value olup olmadığını sorguluyoruz.\n",
    "# Bu veri setimizde bulunmamaktadır.\n",
    "student_df.isnull().sum()"
   ]
  },
  {
   "cell_type": "code",
   "execution_count": 87,
   "id": "ab143e46",
   "metadata": {},
   "outputs": [
    {
     "data": {
      "text/plain": [
       "Hours Studied                       False\n",
       "Previous Scores                     False\n",
       "Extracurricular Activities           True\n",
       "Sleep Hours                         False\n",
       "Sample Question Papers Practiced    False\n",
       "Performance Index                   False\n",
       "dtype: bool"
      ]
     },
     "execution_count": 87,
     "metadata": {},
     "output_type": "execute_result"
    }
   ],
   "source": [
    "# Veri setindeki object veri tipine sahip sütunları True/False olarak kontrol eder.\n",
    "msk = student_df.dtypes == np.object_\n",
    "msk"
   ]
  },
  {
   "cell_type": "code",
   "execution_count": 88,
   "id": "a336e124",
   "metadata": {},
   "outputs": [
    {
     "data": {
      "text/plain": [
       "Index(['Extracurricular Activities'], dtype='object')"
      ]
     },
     "execution_count": 88,
     "metadata": {},
     "output_type": "execute_result"
    }
   ],
   "source": [
    "# Veri setindeki 'object' tipindeki sütunların isimlerini alır.\n",
    "categorical_columns = student_df.columns[msk]\n",
    "categorical_columns\n"
   ]
  },
  {
   "cell_type": "code",
   "execution_count": 89,
   "id": "c79a5b9f",
   "metadata": {},
   "outputs": [],
   "source": [
    "# Veri setimizi drop edelim.'Extracurricular Activities' sütununu ve indexi 1 olan satırı veri setinden kalıcı olarak siler.\n",
    "student_df.drop(\n",
    "    columns=['Extracurricular Activities'],\n",
    "    index=1,\n",
    "    inplace=True\n",
    ")"
   ]
  },
  {
   "cell_type": "code",
   "execution_count": 90,
   "id": "1da4295b",
   "metadata": {},
   "outputs": [
    {
     "data": {
      "text/html": [
       "<div>\n",
       "<style scoped>\n",
       "    .dataframe tbody tr th:only-of-type {\n",
       "        vertical-align: middle;\n",
       "    }\n",
       "\n",
       "    .dataframe tbody tr th {\n",
       "        vertical-align: top;\n",
       "    }\n",
       "\n",
       "    .dataframe thead th {\n",
       "        text-align: right;\n",
       "    }\n",
       "</style>\n",
       "<table border=\"1\" class=\"dataframe\">\n",
       "  <thead>\n",
       "    <tr style=\"text-align: right;\">\n",
       "      <th></th>\n",
       "      <th>Hours Studied</th>\n",
       "      <th>Previous Scores</th>\n",
       "      <th>Sleep Hours</th>\n",
       "      <th>Sample Question Papers Practiced</th>\n",
       "      <th>Performance Index</th>\n",
       "    </tr>\n",
       "  </thead>\n",
       "  <tbody>\n",
       "    <tr>\n",
       "      <th>0</th>\n",
       "      <td>7</td>\n",
       "      <td>99</td>\n",
       "      <td>9</td>\n",
       "      <td>1</td>\n",
       "      <td>91.0</td>\n",
       "    </tr>\n",
       "    <tr>\n",
       "      <th>2</th>\n",
       "      <td>8</td>\n",
       "      <td>51</td>\n",
       "      <td>7</td>\n",
       "      <td>2</td>\n",
       "      <td>45.0</td>\n",
       "    </tr>\n",
       "    <tr>\n",
       "      <th>3</th>\n",
       "      <td>5</td>\n",
       "      <td>52</td>\n",
       "      <td>5</td>\n",
       "      <td>2</td>\n",
       "      <td>36.0</td>\n",
       "    </tr>\n",
       "    <tr>\n",
       "      <th>4</th>\n",
       "      <td>7</td>\n",
       "      <td>75</td>\n",
       "      <td>8</td>\n",
       "      <td>5</td>\n",
       "      <td>66.0</td>\n",
       "    </tr>\n",
       "    <tr>\n",
       "      <th>5</th>\n",
       "      <td>3</td>\n",
       "      <td>78</td>\n",
       "      <td>9</td>\n",
       "      <td>6</td>\n",
       "      <td>61.0</td>\n",
       "    </tr>\n",
       "  </tbody>\n",
       "</table>\n",
       "</div>"
      ],
      "text/plain": [
       "   Hours Studied  Previous Scores  Sleep Hours  \\\n",
       "0              7               99            9   \n",
       "2              8               51            7   \n",
       "3              5               52            5   \n",
       "4              7               75            8   \n",
       "5              3               78            9   \n",
       "\n",
       "   Sample Question Papers Practiced  Performance Index  \n",
       "0                                 1               91.0  \n",
       "2                                 2               45.0  \n",
       "3                                 2               36.0  \n",
       "4                                 5               66.0  \n",
       "5                                 6               61.0  "
      ]
     },
     "execution_count": 90,
     "metadata": {},
     "output_type": "execute_result"
    }
   ],
   "source": [
    "student_df.head()"
   ]
  },
  {
   "cell_type": "code",
   "execution_count": 91,
   "id": "0240e825",
   "metadata": {},
   "outputs": [
    {
     "data": {
      "text/html": [
       "<div>\n",
       "<style scoped>\n",
       "    .dataframe tbody tr th:only-of-type {\n",
       "        vertical-align: middle;\n",
       "    }\n",
       "\n",
       "    .dataframe tbody tr th {\n",
       "        vertical-align: top;\n",
       "    }\n",
       "\n",
       "    .dataframe thead th {\n",
       "        text-align: right;\n",
       "    }\n",
       "</style>\n",
       "<table border=\"1\" class=\"dataframe\">\n",
       "  <thead>\n",
       "    <tr style=\"text-align: right;\">\n",
       "      <th></th>\n",
       "      <th>Hours Studied</th>\n",
       "      <th>Previous Scores</th>\n",
       "      <th>Sleep Hours</th>\n",
       "      <th>Sample Question Papers Practiced</th>\n",
       "      <th>Performance Index</th>\n",
       "    </tr>\n",
       "  </thead>\n",
       "  <tbody>\n",
       "    <tr>\n",
       "      <th>count</th>\n",
       "      <td>9999.000000</td>\n",
       "      <td>9999.000000</td>\n",
       "      <td>9999.000000</td>\n",
       "      <td>9999.000000</td>\n",
       "      <td>9999.000000</td>\n",
       "    </tr>\n",
       "    <tr>\n",
       "      <th>mean</th>\n",
       "      <td>4.992999</td>\n",
       "      <td>69.444444</td>\n",
       "      <td>6.530853</td>\n",
       "      <td>4.583558</td>\n",
       "      <td>55.223822</td>\n",
       "    </tr>\n",
       "    <tr>\n",
       "      <th>std</th>\n",
       "      <td>2.589419</td>\n",
       "      <td>17.343565</td>\n",
       "      <td>1.695759</td>\n",
       "      <td>2.867375</td>\n",
       "      <td>19.213270</td>\n",
       "    </tr>\n",
       "    <tr>\n",
       "      <th>min</th>\n",
       "      <td>1.000000</td>\n",
       "      <td>40.000000</td>\n",
       "      <td>4.000000</td>\n",
       "      <td>0.000000</td>\n",
       "      <td>10.000000</td>\n",
       "    </tr>\n",
       "    <tr>\n",
       "      <th>25%</th>\n",
       "      <td>3.000000</td>\n",
       "      <td>54.000000</td>\n",
       "      <td>5.000000</td>\n",
       "      <td>2.000000</td>\n",
       "      <td>40.000000</td>\n",
       "    </tr>\n",
       "    <tr>\n",
       "      <th>50%</th>\n",
       "      <td>5.000000</td>\n",
       "      <td>69.000000</td>\n",
       "      <td>7.000000</td>\n",
       "      <td>5.000000</td>\n",
       "      <td>55.000000</td>\n",
       "    </tr>\n",
       "    <tr>\n",
       "      <th>75%</th>\n",
       "      <td>7.000000</td>\n",
       "      <td>85.000000</td>\n",
       "      <td>8.000000</td>\n",
       "      <td>7.000000</td>\n",
       "      <td>71.000000</td>\n",
       "    </tr>\n",
       "    <tr>\n",
       "      <th>max</th>\n",
       "      <td>9.000000</td>\n",
       "      <td>99.000000</td>\n",
       "      <td>9.000000</td>\n",
       "      <td>9.000000</td>\n",
       "      <td>100.000000</td>\n",
       "    </tr>\n",
       "  </tbody>\n",
       "</table>\n",
       "</div>"
      ],
      "text/plain": [
       "       Hours Studied  Previous Scores  Sleep Hours  \\\n",
       "count    9999.000000      9999.000000  9999.000000   \n",
       "mean        4.992999        69.444444     6.530853   \n",
       "std         2.589419        17.343565     1.695759   \n",
       "min         1.000000        40.000000     4.000000   \n",
       "25%         3.000000        54.000000     5.000000   \n",
       "50%         5.000000        69.000000     7.000000   \n",
       "75%         7.000000        85.000000     8.000000   \n",
       "max         9.000000        99.000000     9.000000   \n",
       "\n",
       "       Sample Question Papers Practiced  Performance Index  \n",
       "count                       9999.000000        9999.000000  \n",
       "mean                           4.583558          55.223822  \n",
       "std                            2.867375          19.213270  \n",
       "min                            0.000000          10.000000  \n",
       "25%                            2.000000          40.000000  \n",
       "50%                            5.000000          55.000000  \n",
       "75%                            7.000000          71.000000  \n",
       "max                            9.000000         100.000000  "
      ]
     },
     "execution_count": 91,
     "metadata": {},
     "output_type": "execute_result"
    }
   ],
   "source": [
    "# Değişkenlerin genel dağılımını görmek için describe() kullanıldık.\n",
    "# Sayısal değişkenlerin ortalama, min, max gibi temel istatistiklerini inceledik.\n",
    "student_df.describe()"
   ]
  },
  {
   "cell_type": "markdown",
   "id": "d7b59b0e",
   "metadata": {},
   "source": [
    "## 7. 🛠️ **Feature Engineering** / _Özellik Mühendisliği_ "
   ]
  },
  {
   "cell_type": "markdown",
   "id": "36f9192a",
   "metadata": {},
   "source": [
    "# Öznitelik Oluşturma"
   ]
  },
  {
   "cell_type": "code",
   "execution_count": 92,
   "id": "2e18d6f7",
   "metadata": {},
   "outputs": [
    {
     "data": {
      "text/html": [
       "<div>\n",
       "<style scoped>\n",
       "    .dataframe tbody tr th:only-of-type {\n",
       "        vertical-align: middle;\n",
       "    }\n",
       "\n",
       "    .dataframe tbody tr th {\n",
       "        vertical-align: top;\n",
       "    }\n",
       "\n",
       "    .dataframe thead th {\n",
       "        text-align: right;\n",
       "    }\n",
       "</style>\n",
       "<table border=\"1\" class=\"dataframe\">\n",
       "  <thead>\n",
       "    <tr style=\"text-align: right;\">\n",
       "      <th></th>\n",
       "      <th>Hours Studied</th>\n",
       "      <th>Previous Scores</th>\n",
       "      <th>Sleep Hours</th>\n",
       "      <th>Sample Question Papers Practiced</th>\n",
       "      <th>Performance Index</th>\n",
       "      <th>Study Score</th>\n",
       "    </tr>\n",
       "  </thead>\n",
       "  <tbody>\n",
       "    <tr>\n",
       "      <th>0</th>\n",
       "      <td>7</td>\n",
       "      <td>99</td>\n",
       "      <td>9</td>\n",
       "      <td>1</td>\n",
       "      <td>91.0</td>\n",
       "      <td>7</td>\n",
       "    </tr>\n",
       "    <tr>\n",
       "      <th>2</th>\n",
       "      <td>8</td>\n",
       "      <td>51</td>\n",
       "      <td>7</td>\n",
       "      <td>2</td>\n",
       "      <td>45.0</td>\n",
       "      <td>16</td>\n",
       "    </tr>\n",
       "    <tr>\n",
       "      <th>3</th>\n",
       "      <td>5</td>\n",
       "      <td>52</td>\n",
       "      <td>5</td>\n",
       "      <td>2</td>\n",
       "      <td>36.0</td>\n",
       "      <td>10</td>\n",
       "    </tr>\n",
       "    <tr>\n",
       "      <th>4</th>\n",
       "      <td>7</td>\n",
       "      <td>75</td>\n",
       "      <td>8</td>\n",
       "      <td>5</td>\n",
       "      <td>66.0</td>\n",
       "      <td>35</td>\n",
       "    </tr>\n",
       "    <tr>\n",
       "      <th>5</th>\n",
       "      <td>3</td>\n",
       "      <td>78</td>\n",
       "      <td>9</td>\n",
       "      <td>6</td>\n",
       "      <td>61.0</td>\n",
       "      <td>18</td>\n",
       "    </tr>\n",
       "  </tbody>\n",
       "</table>\n",
       "</div>"
      ],
      "text/plain": [
       "   Hours Studied  Previous Scores  Sleep Hours  \\\n",
       "0              7               99            9   \n",
       "2              8               51            7   \n",
       "3              5               52            5   \n",
       "4              7               75            8   \n",
       "5              3               78            9   \n",
       "\n",
       "   Sample Question Papers Practiced  Performance Index  Study Score  \n",
       "0                                 1               91.0            7  \n",
       "2                                 2               45.0           16  \n",
       "3                                 2               36.0           10  \n",
       "4                                 5               66.0           35  \n",
       "5                                 6               61.0           18  "
      ]
     },
     "execution_count": 92,
     "metadata": {},
     "output_type": "execute_result"
    }
   ],
   "source": [
    "# Öğrencinin çalıştığı saat ile çözdüğü örnek soru sayısı çarpılarak çalışma skoru oluşturulduk.\n",
    "student_df['Study Score'] = student_df['Hours Studied'] * student_df['Sample Question Papers Practiced']\n",
    "student_df.head()"
   ]
  },
  {
   "cell_type": "markdown",
   "id": "24d6bb0b",
   "metadata": {},
   "source": [
    "## 8. 🧹 **Data Preprocessing** / _Veri Ön İşleme_  "
   ]
  },
  {
   "cell_type": "code",
   "execution_count": 93,
   "id": "0efcb3b2",
   "metadata": {},
   "outputs": [
    {
     "data": {
      "text/html": [
       "<div>\n",
       "<style scoped>\n",
       "    .dataframe tbody tr th:only-of-type {\n",
       "        vertical-align: middle;\n",
       "    }\n",
       "\n",
       "    .dataframe tbody tr th {\n",
       "        vertical-align: top;\n",
       "    }\n",
       "\n",
       "    .dataframe thead th {\n",
       "        text-align: right;\n",
       "    }\n",
       "</style>\n",
       "<table border=\"1\" class=\"dataframe\">\n",
       "  <thead>\n",
       "    <tr style=\"text-align: right;\">\n",
       "      <th></th>\n",
       "      <th>Hours Studied</th>\n",
       "      <th>Previous Scores</th>\n",
       "      <th>Sleep Hours</th>\n",
       "      <th>Sample Question Papers Practiced</th>\n",
       "      <th>Performance Index</th>\n",
       "      <th>Study Score</th>\n",
       "    </tr>\n",
       "  </thead>\n",
       "  <tbody>\n",
       "    <tr>\n",
       "      <th>0</th>\n",
       "      <td>7</td>\n",
       "      <td>99</td>\n",
       "      <td>9</td>\n",
       "      <td>1</td>\n",
       "      <td>91.0</td>\n",
       "      <td>7</td>\n",
       "    </tr>\n",
       "    <tr>\n",
       "      <th>1</th>\n",
       "      <td>8</td>\n",
       "      <td>51</td>\n",
       "      <td>7</td>\n",
       "      <td>2</td>\n",
       "      <td>45.0</td>\n",
       "      <td>16</td>\n",
       "    </tr>\n",
       "    <tr>\n",
       "      <th>2</th>\n",
       "      <td>5</td>\n",
       "      <td>52</td>\n",
       "      <td>5</td>\n",
       "      <td>2</td>\n",
       "      <td>36.0</td>\n",
       "      <td>10</td>\n",
       "    </tr>\n",
       "    <tr>\n",
       "      <th>3</th>\n",
       "      <td>7</td>\n",
       "      <td>75</td>\n",
       "      <td>8</td>\n",
       "      <td>5</td>\n",
       "      <td>66.0</td>\n",
       "      <td>35</td>\n",
       "    </tr>\n",
       "    <tr>\n",
       "      <th>4</th>\n",
       "      <td>3</td>\n",
       "      <td>78</td>\n",
       "      <td>9</td>\n",
       "      <td>6</td>\n",
       "      <td>61.0</td>\n",
       "      <td>18</td>\n",
       "    </tr>\n",
       "  </tbody>\n",
       "</table>\n",
       "</div>"
      ],
      "text/plain": [
       "   Hours Studied  Previous Scores  Sleep Hours  \\\n",
       "0              7               99            9   \n",
       "1              8               51            7   \n",
       "2              5               52            5   \n",
       "3              7               75            8   \n",
       "4              3               78            9   \n",
       "\n",
       "   Sample Question Papers Practiced  Performance Index  Study Score  \n",
       "0                                 1               91.0            7  \n",
       "1                                 2               45.0           16  \n",
       "2                                 2               36.0           10  \n",
       "3                                 5               66.0           35  \n",
       "4                                 6               61.0           18  "
      ]
     },
     "execution_count": 93,
     "metadata": {},
     "output_type": "execute_result"
    }
   ],
   "source": [
    "# Silinen satır sonrası index’leri yeniden sıfırlayarak düzenli hale getirdik.\n",
    "# Verimizin bütün kontrolleri yapıldı.\n",
    "# Veri setinde eksik veya uygunsuz veri bulunmadığı için ön işleme adımını tamamladık.\n",
    "student_df.reset_index(drop=True, inplace=True)\n",
    "student_df.head()\n"
   ]
  },
  {
   "cell_type": "markdown",
   "id": "9576ac40",
   "metadata": {},
   "source": [
    "\n",
    "## 9. 🔗 **Correlation Analysis** / _Korelasyon Analizi_"
   ]
  },
  {
   "cell_type": "code",
   "execution_count": 94,
   "id": "9d55f9fc",
   "metadata": {},
   "outputs": [
    {
     "data": {
      "text/plain": [
       "Performance Index                   1.000000\n",
       "Previous Scores                     0.915188\n",
       "Hours Studied                       0.373757\n",
       "Study Score                         0.253430\n",
       "Sleep Hours                         0.048188\n",
       "Sample Question Papers Practiced    0.043316\n",
       "Name: Performance Index, dtype: float64"
      ]
     },
     "execution_count": 94,
     "metadata": {},
     "output_type": "execute_result"
    }
   ],
   "source": [
    "# Korelasyon analizine göre, **Performance Index** en güçlü şekilde Previous Scores ile ilişkilidir (0.91).  \n",
    "# Hours Studied ve Study Score orta düzeyde etkiliyken, Sleep Hours ve Sample Question Papers Practiced çok düşük etkiye sahiptir.\n",
    "student_df.corr()['Performance Index'].sort_values(ascending=False)"
   ]
  },
  {
   "cell_type": "code",
   "execution_count": 95,
   "id": "716cf929",
   "metadata": {},
   "outputs": [
    {
     "data": {
      "image/png": "[encoded data removed]",
      "text/plain": [
       "<Figure size 640x480 with 2 Axes>"
      ]
     },
     "metadata": {},
     "output_type": "display_data"
    }
   ],
   "source": [
    "# Seaborn ile görselleştirme yaptık.\n",
    "# Tüm sayısal değişkenler arasındaki korelasyonları hesaplıyoruz.\n",
    "# ısı haritası (heatmap) ile görselleştiriyoruz.\n",
    "# Bu sayede hedef değişken olan 'Performance Index' ile diğer değişkenler arasındaki ilişkileri daha net görebiliyoruz.\n",
    "\n",
    "import seaborn as sns\n",
    "import matplotlib.pyplot as plt\n",
    "\n",
    "correlation_matrix = student_df.corr()\n",
    "plt.figure(dpi=100)\n",
    "sns.heatmap(np.round(student_df.corr(), 1), annot=True, cmap='Reds')\n",
    "plt.title(\"Korelasyon Matrisi\")\n",
    "plt.show()\n"
   ]
  },
  {
   "cell_type": "code",
   "execution_count": 96,
   "id": "7ff2fa79",
   "metadata": {},
   "outputs": [
    {
     "data": {
      "image/png": "[encoded data removed]",
      "text/plain": [
       "<Figure size 1800x500 with 3 Axes>"
      ]
     },
     "metadata": {},
     "output_type": "display_data"
    }
   ],
   "source": [
    "# matplotlib.pyplot 2D görselleştirme kütüphanesi ile de yaptık. En çok kullanılan 2D görselleştirme kütüphanesidir.\n",
    "# Performance Index ile diğer bağımsız değişkenler arasındaki ilişkiler görselleştirildi.\n",
    "# Özellikle Previous Scores ile güçlü bir doğrusal ilişki gözlemlenmektedir.\n",
    "\n",
    "import matplotlib.pyplot as plt\n",
    "\n",
    "fig, axes = plt.subplots(1, 3, figsize=(18, 5))\n",
    "colors = ['#FF6666', '#66B2FF', '#CC99FF']\n",
    "\n",
    "# 1. Previous Scores vs Performance Index\n",
    "axes[0].scatter(student_df['Previous Scores'], student_df['Performance Index'], c=colors[0], alpha=0.7)\n",
    "axes[0].set_title('Previous Scores vs Performance Index', fontsize=12)\n",
    "axes[0].set_xlabel('Previous Scores', fontsize=10)\n",
    "axes[0].set_ylabel('Performance Index', fontsize=10)\n",
    "axes[0].grid(True)\n",
    "\n",
    "# 2. Hours Studied vs Performance Index\n",
    "axes[1].scatter(student_df['Hours Studied'], student_df['Performance Index'], c=colors[1], alpha=0.7)\n",
    "axes[1].set_title('Hours Studied vs Performance Index', fontsize=12)\n",
    "axes[1].set_xlabel('Hours Studied', fontsize=10)\n",
    "axes[1].set_ylabel('Performance Index', fontsize=10)\n",
    "axes[1].grid(True)\n",
    "\n",
    "# 3. Study Score vs Performance Index\n",
    "axes[2].scatter(student_df['Study Score'], student_df['Performance Index'], c=colors[2], alpha=0.7)\n",
    "axes[2].set_title('Study Score vs Performance Index', fontsize=12)\n",
    "axes[2].set_xlabel('Study Score', fontsize=10)\n",
    "axes[2].set_ylabel('Performance Index', fontsize=10)\n",
    "axes[2].grid(True)\n",
    "\n",
    "plt.tight_layout()\n",
    "plt.show()\n"
   ]
  },
  {
   "cell_type": "markdown",
   "id": "6858eb1c",
   "metadata": {},
   "source": [
    "## 10. 🔎 **Skewness & Outlier Detection** / _Çarpıklık ve Aykırı Değer Tespiti_"
   ]
  },
  {
   "cell_type": "code",
   "execution_count": 97,
   "id": "fb7252e5",
   "metadata": {},
   "outputs": [
    {
     "data": {
      "text/html": [
       "<div>\n",
       "<style scoped>\n",
       "    .dataframe tbody tr th:only-of-type {\n",
       "        vertical-align: middle;\n",
       "    }\n",
       "\n",
       "    .dataframe tbody tr th {\n",
       "        vertical-align: top;\n",
       "    }\n",
       "\n",
       "    .dataframe thead th {\n",
       "        text-align: right;\n",
       "    }\n",
       "</style>\n",
       "<table border=\"1\" class=\"dataframe\">\n",
       "  <thead>\n",
       "    <tr style=\"text-align: right;\">\n",
       "      <th></th>\n",
       "      <th>Hours Studied</th>\n",
       "      <th>Previous Scores</th>\n",
       "      <th>Sleep Hours</th>\n",
       "      <th>Sample Question Papers Practiced</th>\n",
       "      <th>Study Score</th>\n",
       "      <th>Performance Index</th>\n",
       "    </tr>\n",
       "  </thead>\n",
       "  <tbody>\n",
       "    <tr>\n",
       "      <th>0</th>\n",
       "      <td>7</td>\n",
       "      <td>99</td>\n",
       "      <td>9</td>\n",
       "      <td>1</td>\n",
       "      <td>7</td>\n",
       "      <td>91.0</td>\n",
       "    </tr>\n",
       "    <tr>\n",
       "      <th>1</th>\n",
       "      <td>8</td>\n",
       "      <td>51</td>\n",
       "      <td>7</td>\n",
       "      <td>2</td>\n",
       "      <td>16</td>\n",
       "      <td>45.0</td>\n",
       "    </tr>\n",
       "    <tr>\n",
       "      <th>2</th>\n",
       "      <td>5</td>\n",
       "      <td>52</td>\n",
       "      <td>5</td>\n",
       "      <td>2</td>\n",
       "      <td>10</td>\n",
       "      <td>36.0</td>\n",
       "    </tr>\n",
       "    <tr>\n",
       "      <th>3</th>\n",
       "      <td>7</td>\n",
       "      <td>75</td>\n",
       "      <td>8</td>\n",
       "      <td>5</td>\n",
       "      <td>35</td>\n",
       "      <td>66.0</td>\n",
       "    </tr>\n",
       "    <tr>\n",
       "      <th>4</th>\n",
       "      <td>3</td>\n",
       "      <td>78</td>\n",
       "      <td>9</td>\n",
       "      <td>6</td>\n",
       "      <td>18</td>\n",
       "      <td>61.0</td>\n",
       "    </tr>\n",
       "  </tbody>\n",
       "</table>\n",
       "</div>"
      ],
      "text/plain": [
       "   Hours Studied  Previous Scores  Sleep Hours  \\\n",
       "0              7               99            9   \n",
       "1              8               51            7   \n",
       "2              5               52            5   \n",
       "3              7               75            8   \n",
       "4              3               78            9   \n",
       "\n",
       "   Sample Question Papers Practiced  Study Score  Performance Index  \n",
       "0                                 1            7               91.0  \n",
       "1                                 2           16               45.0  \n",
       "2                                 2           10               36.0  \n",
       "3                                 5           35               66.0  \n",
       "4                                 6           18               61.0  "
      ]
     },
     "execution_count": 97,
     "metadata": {},
     "output_type": "execute_result"
    }
   ],
   "source": [
    "# Multiple Regrasyon modelleme için gerekli sütunları içeren cdf veri seti oluşturulduk.\n",
    "cdf = student_df[['Hours Studied', 'Previous Scores', 'Sleep Hours', 'Sample Question Papers Practiced', 'Study Score', 'Performance Index']]\n",
    "cdf.head()"
   ]
  },
  {
   "cell_type": "code",
   "execution_count": 98,
   "id": "ec3b357a",
   "metadata": {},
   "outputs": [
    {
     "name": "stdout",
     "output_type": "stream",
     "text": [
      "Hours Studied Çarpıklık (skewness): -0.00\n",
      "\n",
      "Previous Scores Çarpıklık (skewness): 0.00\n",
      "\n",
      "Sleep Hours Çarpıklık (skewness): -0.04\n",
      "\n",
      "Sample Question Papers Practiced Çarpıklık (skewness): -0.04\n",
      "\n",
      "Study Score Çarpıklık (skewness): 0.92\n",
      "\n",
      "Performance Index Çarpıklık (skewness): -0.00\n",
      "\n"
     ]
    }
   ],
   "source": [
    "from scipy.stats import boxcox\n",
    "from scipy.stats import skew\n",
    "# Sayısal sütunlar için çarpıklık (skewness) değerini hesapladık.\n",
    "# Skewness, dağılımın simetrik olup olmadığını gösterir.\n",
    "# 0'a yakın değerler normal dağılıma işaret ederken,pozitif değerler sağa çarpık, negatif değerler sola çarpık dağılıma işaret eder.\n",
    "for col in cdf.columns:\n",
    "    print(f'{col} Çarpıklık (skewness): {skew(cdf[col]):.2f}\\n')\n",
    "# Hours Studied, Previous Scores, Sleep Hours, Sample Question Papers Practiced ve Performance Index değişkenlerinin çarpıklık değeri yaklaşık 0 olduğundan, bu değişkenler normal dağılıma oldukça yakındır.\n",
    "# Study Score değişkeninin çarpıklığı 0.92 olup pozitif çarpık (sağa çarpık) bir dağılıma sahiptir. Bu, bazı yüksek değerlerin ortalamayı sağ tarafa çektiğini gösterir."
   ]
  },
  {
   "cell_type": "markdown",
   "id": "14a6c8fb",
   "metadata": {},
   "source": [
    "## 11. 🔄 **Data Normalization** / _Verileri Normalize Etme_"
   ]
  },
  {
   "cell_type": "code",
   "execution_count": 99,
   "id": "9e7e5a10",
   "metadata": {},
   "outputs": [
    {
     "data": {
      "text/html": [
       "<div>\n",
       "<style scoped>\n",
       "    .dataframe tbody tr th:only-of-type {\n",
       "        vertical-align: middle;\n",
       "    }\n",
       "\n",
       "    .dataframe tbody tr th {\n",
       "        vertical-align: top;\n",
       "    }\n",
       "\n",
       "    .dataframe thead th {\n",
       "        text-align: right;\n",
       "    }\n",
       "</style>\n",
       "<table border=\"1\" class=\"dataframe\">\n",
       "  <thead>\n",
       "    <tr style=\"text-align: right;\">\n",
       "      <th></th>\n",
       "      <th>Hours Studied</th>\n",
       "      <th>Previous Scores</th>\n",
       "      <th>Sleep Hours</th>\n",
       "      <th>Sample Question Papers Practiced</th>\n",
       "      <th>Study Score</th>\n",
       "      <th>Performance Index</th>\n",
       "    </tr>\n",
       "  </thead>\n",
       "  <tbody>\n",
       "    <tr>\n",
       "      <th>0</th>\n",
       "      <td>0.775116</td>\n",
       "      <td>1.704207</td>\n",
       "      <td>1.456145</td>\n",
       "      <td>-1.249832</td>\n",
       "      <td>-0.794707</td>\n",
       "      <td>1.862149</td>\n",
       "    </tr>\n",
       "    <tr>\n",
       "      <th>1</th>\n",
       "      <td>1.161323</td>\n",
       "      <td>-1.063528</td>\n",
       "      <td>0.276673</td>\n",
       "      <td>-0.901064</td>\n",
       "      <td>-0.348106</td>\n",
       "      <td>-0.532150</td>\n",
       "    </tr>\n",
       "    <tr>\n",
       "      <th>2</th>\n",
       "      <td>0.002704</td>\n",
       "      <td>-1.005867</td>\n",
       "      <td>-0.902799</td>\n",
       "      <td>-0.901064</td>\n",
       "      <td>-0.645840</td>\n",
       "      <td>-1.000599</td>\n",
       "    </tr>\n",
       "    <tr>\n",
       "      <th>3</th>\n",
       "      <td>0.775116</td>\n",
       "      <td>0.320340</td>\n",
       "      <td>0.866409</td>\n",
       "      <td>0.145242</td>\n",
       "      <td>0.594719</td>\n",
       "      <td>0.560900</td>\n",
       "    </tr>\n",
       "    <tr>\n",
       "      <th>4</th>\n",
       "      <td>-0.769709</td>\n",
       "      <td>0.493323</td>\n",
       "      <td>1.456145</td>\n",
       "      <td>0.494010</td>\n",
       "      <td>-0.248861</td>\n",
       "      <td>0.300650</td>\n",
       "    </tr>\n",
       "  </tbody>\n",
       "</table>\n",
       "</div>"
      ],
      "text/plain": [
       "   Hours Studied  Previous Scores  Sleep Hours  \\\n",
       "0       0.775116         1.704207     1.456145   \n",
       "1       1.161323        -1.063528     0.276673   \n",
       "2       0.002704        -1.005867    -0.902799   \n",
       "3       0.775116         0.320340     0.866409   \n",
       "4      -0.769709         0.493323     1.456145   \n",
       "\n",
       "   Sample Question Papers Practiced  Study Score  Performance Index  \n",
       "0                         -1.249832    -0.794707           1.862149  \n",
       "1                         -0.901064    -0.348106          -0.532150  \n",
       "2                         -0.901064    -0.645840          -1.000599  \n",
       "3                          0.145242     0.594719           0.560900  \n",
       "4                          0.494010    -0.248861           0.300650  "
      ]
     },
     "execution_count": 99,
     "metadata": {},
     "output_type": "execute_result"
    }
   ],
   "source": [
    "from sklearn.preprocessing import StandardScaler\n",
    "\n",
    "# Açıklayıcı (bağımsız) değişkenler\n",
    "X = student_df.drop(columns='Performance Index')\n",
    "\n",
    "# Hedef (bağımlı) değişken\n",
    "y = student_df[['Performance Index']]\n",
    "\n",
    "# StandardScaler uygulama\n",
    "scaler = StandardScaler()\n",
    "X_scaled = scaler.fit_transform(X)\n",
    "y_scaled = scaler.fit_transform(y)\n",
    "\n",
    "# Yeni dataframe oluşturma\n",
    "scaled_df = pd.DataFrame(X_scaled, columns=X.columns)\n",
    "scaled_df['Performance Index'] = y_scaled\n",
    "\n",
    "scaled_df.head()"
   ]
  },
  {
   "cell_type": "markdown",
   "id": "e2103815",
   "metadata": {},
   "source": [
    "### 📌 Verilerin Ölçeklendirilmesi Yorumu\n",
    "\n",
    "Veriler `StandardScaler` ile normalize edilmiştir. Bu işlem, her bir değişkenin ortalamasını 0 ve standart sapmasını 1 olacak şekilde dönüştürür. Böylece farklı ölçeklerdeki değişkenlerin makine öğrenmesi algoritmaları üzerindeki etkisi eşitlenmiş olur.\n",
    "\n",
    "- Bu ölçekleme, özellikle KNN, Linear Regresyon gibi ölçek duyarlı modellerde daha doğru sonuçlar elde etmemizi sağlar.\n",
    "- Normalize edilmiş veriler modelin daha hızlı öğrenmesini ve daha kararlı olmasını sağlar.\n"
   ]
  },
  {
   "cell_type": "markdown",
   "id": "de8ed90b",
   "metadata": {},
   "source": [
    "## 12.✂️ **Train/Test Split İşlemi** / _Train/Test Split Process_"
   ]
  },
  {
   "cell_type": "code",
   "execution_count": 100,
   "id": "212e4470",
   "metadata": {},
   "outputs": [
    {
     "name": "stdout",
     "output_type": "stream",
     "text": [
      "Train Set: (7999, 6)\n",
      "Test Set: (2000, 6)\n"
     ]
    }
   ],
   "source": [
    "from sklearn.model_selection import train_test_split\n",
    "# Veri seti %80 eğitim (%80 train), %20 test (%20 test) olacak şekilde ayrıldı.\n",
    "# Bu işlem modelin eğitilmesi ve test edilmesi için veri setini hazırlar.\n",
    "train_df, test_df = train_test_split(student_df, train_size=0.8, random_state=42)\n",
    "print(f'Train Set: {train_df.shape}\\nTest Set: {test_df.shape}')\n"
   ]
  },
  {
   "cell_type": "code",
   "execution_count": 101,
   "id": "add9faf7",
   "metadata": {},
   "outputs": [],
   "source": [
    "# Veriyi eğitim (X_train, y_train) ve test (X_test, y_test) setlerine ayırıyoruz\n",
    "# X: Özellik sütunları (Hours Studied, Previous Scores, Sleep Hours)\n",
    "# y: Hedef sütun (Performance Index)\n",
    "\n",
    "X_train = train_df[['Hours Studied', 'Previous Scores', 'Sleep Hours']]\n",
    "y_train = train_df['Performance Index']\n",
    "\n",
    "X_test = test_df[['Hours Studied', 'Previous Scores', 'Sleep Hours']]\n",
    "y_test = test_df['Performance Index']"
   ]
  },
  {
   "cell_type": "markdown",
   "id": "b338fe87",
   "metadata": {},
   "source": [
    "## 13. 🔍 **Skewness & Outlier Check** / _Çarpıklık ve Aykırı Değer Kontrolü_ "
   ]
  },
  {
   "cell_type": "code",
   "execution_count": 102,
   "id": "ad7958b2",
   "metadata": {},
   "outputs": [
    {
     "data": {
      "image/png": "[encoded data removed]",
      "text/plain": [
       "<Figure size 1500x1000 with 6 Axes>"
      ]
     },
     "metadata": {},
     "output_type": "display_data"
    }
   ],
   "source": [
    "import matplotlib.pyplot as plt\n",
    "import seaborn as sns\n",
    "\n",
    "# Sayısal değişkenleri alalım.\n",
    "numeric_columns = student_df.select_dtypes(include='number').columns\n",
    "\n",
    "# Kutu grafiklerini çizdik.\n",
    "plt.figure(figsize=(15, 10))\n",
    "for i, col in enumerate(numeric_columns, 1):\n",
    "    plt.subplot(2, 3, i)\n",
    "    sns.boxplot(x=student_df[col], color='skyblue')\n",
    "    plt.title(f'{col} - Boxplot')\n",
    "    plt.tight_layout()\n",
    "\n",
    "plt.show()"
   ]
  },
  {
   "cell_type": "markdown",
   "id": "4191e185",
   "metadata": {},
   "source": [
    "### 📌 Boxplot grafiklerine göre veri setinde belirgin bir aykırı değer bulunmamaktadır. Tüm değişkenler dengeli ve simetriğe yakın dağılım göstermektedir. Bu nedenle outlier temizleme işlemine gerek yoktur.\n"
   ]
  },
  {
   "cell_type": "markdown",
   "id": "82d440f6",
   "metadata": {},
   "source": [
    "## 14. 🔢 **Regression Model Evaluation & Training** / _Regresyon Modeli Değerlendirme & Train Etme_\n"
   ]
  },
  {
   "cell_type": "code",
   "execution_count": 103,
   "id": "df5b53c5",
   "metadata": {},
   "outputs": [
    {
     "name": "stdout",
     "output_type": "stream",
     "text": [
      "Coefficient: [[2.85863798 1.01871027 0.47618159]]\n",
      "Intercept: -32.91\n",
      "\n"
     ]
    }
   ],
   "source": [
    "from sklearn import linear_model\n",
    "\n",
    "# Modeli oluşturduk\n",
    "regression = linear_model.LinearRegression()\n",
    "\n",
    "# Eğitim verilerini aldık\n",
    "train_x = np.asanyarray(train_df[['Hours Studied', 'Previous Scores', 'Sleep Hours']])\n",
    "train_y = np.asanyarray(train_df[['Performance Index']])\n",
    "\n",
    "# Eğittik\n",
    "regression.fit(train_x, train_y)\n",
    "\n",
    "# Çıktı aldık\n",
    "coefficient = regression.coef_\n",
    "intercept = regression.intercept_[0]\n",
    "\n",
    "print(f'Coefficient: {coefficient}')\n",
    "print(f'Intercept: {intercept:.2f}\\n')\n"
   ]
  },
  {
   "cell_type": "markdown",
   "id": "6c44077e",
   "metadata": {},
   "source": [
    "📌 Regresyon Modeli Yorumu\n",
    "Bu modelde bağımlı değişken olarak Performance Index, bağımsız değişkenler olarak ise Hours Studied, Previous Scores ve Sleep Hours kullanılmıştır.\n",
    "\n",
    "* Hours Studied (2.86): En yüksek katsayıya sahip değişkendir. Bu, öğrencinin çalışma saatlerindeki her bir birimlik artışın, performans indeksinde ortalama 2.86 birimlik bir artışa neden olduğunu gösterir. Modeldeki en güçlü pozitif etkendir.\n",
    "\n",
    "* Previous Scores (1.02): Öğrencinin önceki notları da pozitif bir etki göstermektedir. Bu değer, geçmiş başarıların yeni performansı etkilediğini doğrular.\n",
    "\n",
    "* Sleep Hours (0.48): Uyku saatlerinin de olumlu katkısı vardır ancak etkisi diğer iki değişkene göre daha düşüktür.\n",
    "\n",
    "* Intercept (-32.91): Tüm bağımsız değişkenlerin değeri sıfır olduğunda modelin tahmini performans indeksidir. Teorik bir anlam taşır, pratikte genellikle yorumlanmaz."
   ]
  },
  {
   "cell_type": "markdown",
   "id": "f50113a5",
   "metadata": {},
   "source": [
    "## 15. 📈 **Model Prediction Results (Actual & Predicted)** / _Model Tahmin Sonuçları (Gerçek & Tahmin)_"
   ]
  },
  {
   "cell_type": "code",
   "execution_count": 104,
   "id": "43268b64",
   "metadata": {},
   "outputs": [
    {
     "data": {
      "text/html": [
       "<div>\n",
       "<style scoped>\n",
       "    .dataframe tbody tr th:only-of-type {\n",
       "        vertical-align: middle;\n",
       "    }\n",
       "\n",
       "    .dataframe tbody tr th {\n",
       "        vertical-align: top;\n",
       "    }\n",
       "\n",
       "    .dataframe thead th {\n",
       "        text-align: right;\n",
       "    }\n",
       "</style>\n",
       "<table border=\"1\" class=\"dataframe\">\n",
       "  <thead>\n",
       "    <tr style=\"text-align: right;\">\n",
       "      <th></th>\n",
       "      <th>Real Performance Index</th>\n",
       "      <th>Estimated Performance Index</th>\n",
       "    </tr>\n",
       "  </thead>\n",
       "  <tbody>\n",
       "    <tr>\n",
       "      <th>0</th>\n",
       "      <td>25.0</td>\n",
       "      <td>27.883229</td>\n",
       "    </tr>\n",
       "    <tr>\n",
       "      <th>1</th>\n",
       "      <td>72.0</td>\n",
       "      <td>68.646489</td>\n",
       "    </tr>\n",
       "    <tr>\n",
       "      <th>2</th>\n",
       "      <td>74.0</td>\n",
       "      <td>72.407540</td>\n",
       "    </tr>\n",
       "    <tr>\n",
       "      <th>3</th>\n",
       "      <td>70.0</td>\n",
       "      <td>72.114002</td>\n",
       "    </tr>\n",
       "    <tr>\n",
       "      <th>4</th>\n",
       "      <td>61.0</td>\n",
       "      <td>61.779357</td>\n",
       "    </tr>\n",
       "  </tbody>\n",
       "</table>\n",
       "</div>"
      ],
      "text/plain": [
       "   Real Performance Index  Estimated Performance Index\n",
       "0                    25.0                    27.883229\n",
       "1                    72.0                    68.646489\n",
       "2                    74.0                    72.407540\n",
       "3                    70.0                    72.114002\n",
       "4                    61.0                    61.779357"
      ]
     },
     "execution_count": 104,
     "metadata": {},
     "output_type": "execute_result"
    }
   ],
   "source": [
    "# Test veri setindeki bağımsız (özellik) ve bağımlı (hedef) değişkenleri alıyoruz\n",
    "X_test = np.asanyarray(test_df[['Hours Studied', 'Previous Scores', 'Sleep Hours']])\n",
    "y_test = np.asanyarray(test_df[['Performance Index']])\n",
    "\n",
    "# Model ile tahmin yapıyoruz\n",
    "test_prediction = regression.predict(X_test)\n",
    "\n",
    "# Tahmin ve gerçek değerleri yan yana gösteriyoruz\n",
    "result_df = pd.DataFrame({\n",
    "    'Real Performance Index': y_test.flatten(),\n",
    "    'Estimated Performance Index': test_prediction.flatten()\n",
    "})\n",
    "\n",
    "result_df.head()"
   ]
  },
  {
   "cell_type": "markdown",
   "id": "2e79fd34",
   "metadata": {},
   "source": [
    "* Model tahminleri, gerçek değerlere büyük ölçüde yakın çıkmıştır."
   ]
  },
  {
   "cell_type": "code",
   "execution_count": 105,
   "id": "e2140952",
   "metadata": {},
   "outputs": [
    {
     "data": {
      "image/png": "[encoded data removed]",
      "text/plain": [
       "<Figure size 1000x600 with 1 Axes>"
      ]
     },
     "metadata": {},
     "output_type": "display_data"
    }
   ],
   "source": [
    "plt.figure(figsize=(10,6))\n",
    "plt.scatter(result_df['Real Performance Index'], result_df['Estimated Performance Index'], color='darkblue', alpha=0.9)\n",
    "\n",
    "# Referans çizgisi \n",
    "plt.plot(\n",
    "    [result_df['Real Performance Index'].min(), result_df['Real Performance Index'].max()],\n",
    "    [result_df['Real Performance Index'].min(), result_df['Real Performance Index'].max()],\n",
    "    'r--'\n",
    ")\n",
    "plt.xlabel('Real Performance Index')\n",
    "plt.ylabel('Estimated Performance Index')\n",
    "plt.title('REAL vs ESTIMATED Performance Index')\n",
    "plt.grid(True)\n",
    "plt.tight_layout()\n",
    "plt.show()\n",
    "\n"
   ]
  },
  {
   "cell_type": "markdown",
   "id": "3389db62",
   "metadata": {},
   "source": [
    "* Model, Performance Index tahminlerinde yüksek doğruluk sağlamış ve gerçek değerlerle güçlü bir korelasyon göstermiştir."
   ]
  },
  {
   "cell_type": "markdown",
   "id": "b040bc38",
   "metadata": {},
   "source": [
    "## 16.  📊 **Model Performance Metrics** / _Model Performans Metrikleri_"
   ]
  },
  {
   "cell_type": "code",
   "execution_count": 106,
   "id": "b8cb58a0",
   "metadata": {},
   "outputs": [
    {
     "name": "stdout",
     "output_type": "stream",
     "text": [
      "R2 Score: 0.99\n",
      "Mean Absolute Error: 1.74\n",
      "Mean Squared Error: 4.74\n",
      "Root Mean Squared Error: 2.18\n"
     ]
    }
   ],
   "source": [
    "from sklearn.metrics import r2_score, mean_absolute_error, mean_squared_error\n",
    "\n",
    "# R2 Score\n",
    "r2 = r2_score(y_test, test_prediction)\n",
    "print(f'R2 Score: {r2:.2f}')\n",
    "\n",
    "# MAE\n",
    "mae = mean_absolute_error(y_test, test_prediction)\n",
    "print(f'Mean Absolute Error: {mae:.2f}')\n",
    "\n",
    "# MSE\n",
    "mse = mean_squared_error(y_test, test_prediction)\n",
    "print(f'Mean Squared Error: {mse:.2f}')\n",
    "\n",
    "# RMSE\n",
    "rmse = np.sqrt(mse)\n",
    "print(f'Root Mean Squared Error: {rmse:.2f}')"
   ]
  },
  {
   "cell_type": "markdown",
   "id": "402649a4",
   "metadata": {},
   "source": [
    "* R² Score: 0.99 → Model, bağımlı değişkenin varyansının %99’unu açıklıyor. Çok güçlü bir uyum var.\n",
    "* MAE: 1.74 → Tahminler ortalama 1.74 birim sapma ile doğruya çok yakın.\n",
    "* MSE: 4.74 → Hata karelerinin ortalaması düşük, tahminler kararlı.\n",
    "* RMSE: 2.18 → Ortalama hata büyüklüğü düşük, modelin genel başarısı yüksek."
   ]
  },
  {
   "cell_type": "markdown",
   "id": "544858ee",
   "metadata": {},
   "source": [
    "## 17.  🛠 **Regularization Techniques & Model Performance Improvement** / _Regülizasyon Teknikleri - L1(Lasso) & L2(Ridge) & ElasticNet(L1 + L2) & Model Performans İyileştirme_"
   ]
  },
  {
   "cell_type": "markdown",
   "id": "fffb11d1",
   "metadata": {},
   "source": [
    "* Regülizasyon kullanarak kurduğumuz modelin performansını teknikler ile arttıracağız. ( L1(Lasso) & L2(Ridge) & ElasticNet(L1 + L2) )"
   ]
  },
  {
   "cell_type": "markdown",
   "id": "b4fb1f8b",
   "metadata": {},
   "source": [
    " # * <span style=\"color:red\">L1(Lasso) & L2(Ridge) & ElasticNet(L1 + L2) </span>"
   ]
  },
  {
   "cell_type": "markdown",
   "id": "e62a8b47",
   "metadata": {},
   "source": [
    "* ### L1(Lasso) ---> L1 regülarizasyonu uygular, Basit modeller üretir ve gereksiz katsayıları sıfıra indirerek özellik seçimi yapar. \n",
    "* ### L2(Ridge) ---> L2 regülarizasyonu uygular, katsayıları küçültür ancak sıfıra indirmez, overfitting'i azaltır. Çoklu doğrusal ilişkiler iyi sonuç verir.\n",
    "* ### ElasticNet(L1 + L2) ---> L1 ve L2 regülarizasyonunu her ikisinin avantajını birleştirir ve her  hem özellik seçimi hem de katsayı küçültme sağlar."
   ]
  },
  {
   "cell_type": "code",
   "execution_count": 107,
   "id": "9bf861f8",
   "metadata": {},
   "outputs": [],
   "source": [
    "from sklearn.linear_model import LinearRegression, Lasso, Ridge, ElasticNet\n",
    "# Öncelikle Lasso (L1), Ridge (L2) ve ElasticNet (L1+L2) regresyon modellerini içe aktarıyoruz.\n",
    "\n",
    "from sklearn.metrics import r2_score, mean_absolute_error, mean_squared_error\n",
    "# Model değerlendirme metriklerini (R², MAE, MSE) sklearn.metrics kütüphanesinden içe aktarıyoruz.\n",
    "\n",
    "import warnings\n",
    "# Kod çalışırken oluşabilecek uyarı mesajlarını (warnings) ekrana yazdırma\n",
    "warnings.filterwarnings(\"ignore\")\n"
   ]
  },
  {
   "cell_type": "markdown",
   "id": "3b8529e1",
   "metadata": {},
   "source": [
    " # * <span style=\"color:red\">L1(Lasso)</span>"
   ]
  },
  {
   "cell_type": "code",
   "execution_count": 108,
   "id": "834fa214",
   "metadata": {},
   "outputs": [
    {
     "name": "stdout",
     "output_type": "stream",
     "text": [
      "R2 Score: 0.99\n",
      "Mean Absolute Error: 1.74\n",
      "Mean Squared Error: 4.75\n",
      "Root Mean Squared Error: 2.18\n"
     ]
    }
   ],
   "source": [
    "# Lasso modelini tanımla (alpha ile regularization gücünü ayarlıyoruz)\n",
    "lasso_model = Lasso(alpha=0.1)\n",
    "\n",
    "# Modeli eğitiyoruz\n",
    "lasso_model.fit(X_train, y_train)\n",
    "\n",
    "# Tahmin yapıyoruz\n",
    "lasso_pred = lasso_model.predict(X_test)\n",
    "\n",
    "# Metrix sonuçlarını alıyoruz\n",
    "r2 = r2_score(y_test, lasso_pred)\n",
    "mae = mean_absolute_error(y_test, lasso_pred)\n",
    "mse = mean_squared_error(y_test, lasso_pred)\n",
    "rmse = np.sqrt(mse)\n",
    "\n",
    "print(f\"R2 Score: {r2:.2f}\")\n",
    "print(f\"Mean Absolute Error: {mae:.2f}\")\n",
    "print(f\"Mean Squared Error: {mse:.2f}\")\n",
    "print(f\"Root Mean Squared Error: {rmse:.2f}\")"
   ]
  },
  {
   "cell_type": "markdown",
   "id": "b3b05292",
   "metadata": {},
   "source": [
    " # * <span style=\"color:red\">L2(Ridge)</span>"
   ]
  },
  {
   "cell_type": "code",
   "execution_count": 109,
   "id": "2ec65b89",
   "metadata": {},
   "outputs": [
    {
     "name": "stdout",
     "output_type": "stream",
     "text": [
      "R2 Score: 0.99\n",
      "Mean Absolute Error: 1.74\n",
      "Mean Squared Error: 4.74\n",
      "Root Mean Squared Error: 2.18\n"
     ]
    }
   ],
   "source": [
    "# Ridge modelini tanımladık (alpha: düzenleme gücü)\n",
    "ridge_model = Ridge(alpha=1.0)\n",
    "\n",
    "# Modeli eğittik\n",
    "ridge_model.fit(X_train, y_train)\n",
    "\n",
    "# Tahmin yapıyoruz\n",
    "ridge_pred = ridge_model.predict(X_test)\n",
    "\n",
    "# Metrix sonuçlarını alıyoruz\n",
    "r2   = r2_score(y_test, ridge_pred)\n",
    "mae  = mean_absolute_error(y_test, ridge_pred)\n",
    "mse  = mean_squared_error(y_test, ridge_pred)\n",
    "rmse = np.sqrt(mse)\n",
    "\n",
    "print(f\"R2 Score: {r2:.2f}\")\n",
    "print(f\"Mean Absolute Error: {mae:.2f}\")\n",
    "print(f\"Mean Squared Error: {mse:.2f}\")\n",
    "print(f\"Root Mean Squared Error: {rmse:.2f}\")"
   ]
  },
  {
   "cell_type": "markdown",
   "id": "0aea2f87",
   "metadata": {},
   "source": [
    " # * <span style=\"color:red\">ElasticNet(L1 + L2)</span>"
   ]
  },
  {
   "cell_type": "code",
   "execution_count": 110,
   "id": "b5e94c53",
   "metadata": {},
   "outputs": [
    {
     "name": "stdout",
     "output_type": "stream",
     "text": [
      "R2 Score: 0.99\n",
      "Mean Absolute Error: 1.83\n",
      "Mean Squared Error: 5.33\n",
      "Root Mean Squared Error: 2.31\n"
     ]
    }
   ],
   "source": [
    "# Modeli tanımladık (alpha: ceza gücü, l1_ratio: L1-L2 karışımı)\n",
    "enet_model = ElasticNet(alpha=1.0, l1_ratio=0.5, max_iter=20000, random_state=42)\n",
    "\n",
    "# Modeli eğittik\n",
    "enet_model.fit(X_train, y_train)\n",
    "\n",
    "# Tahmin yapıyoruz\n",
    "enet_pred = enet_model.predict(X_test)\n",
    "\n",
    "# Metrix sonuçlarını alıyoruz\n",
    "r2   = r2_score(y_test, enet_pred)\n",
    "mae  = mean_absolute_error(y_test, enet_pred)\n",
    "mse  = mean_squared_error(y_test, enet_pred)\n",
    "rmse = np.sqrt(mse)\n",
    "\n",
    "print(f\"R2 Score: {r2:.2f}\")\n",
    "print(f\"Mean Absolute Error: {mae:.2f}\")\n",
    "print(f\"Mean Squared Error: {mse:.2f}\")\n",
    "print(f\"Root Mean Squared Error: {rmse:.2f}\")\n"
   ]
  },
  {
   "cell_type": "markdown",
   "id": "a987d1ff",
   "metadata": {},
   "source": [
    "# * <span style=\"color:red\">L1(Lasso) & L2(Ridge) & ElasticNet(L1 + L2) ---> Tek Kod Bloğunda Yazma  </span>"
   ]
  },
  {
   "cell_type": "code",
   "execution_count": 111,
   "id": "8ded5e98",
   "metadata": {},
   "outputs": [
    {
     "data": {
      "text/html": [
       "<div>\n",
       "<style scoped>\n",
       "    .dataframe tbody tr th:only-of-type {\n",
       "        vertical-align: middle;\n",
       "    }\n",
       "\n",
       "    .dataframe tbody tr th {\n",
       "        vertical-align: top;\n",
       "    }\n",
       "\n",
       "    .dataframe thead th {\n",
       "        text-align: right;\n",
       "    }\n",
       "</style>\n",
       "<table border=\"1\" class=\"dataframe\">\n",
       "  <thead>\n",
       "    <tr style=\"text-align: right;\">\n",
       "      <th></th>\n",
       "      <th>Model</th>\n",
       "      <th>R2</th>\n",
       "      <th>MAE</th>\n",
       "      <th>MSE</th>\n",
       "      <th>RMSE</th>\n",
       "    </tr>\n",
       "  </thead>\n",
       "  <tbody>\n",
       "    <tr>\n",
       "      <th>0</th>\n",
       "      <td>LinearRegression</td>\n",
       "      <td>0.987</td>\n",
       "      <td>1.74</td>\n",
       "      <td>4.74</td>\n",
       "      <td>2.18</td>\n",
       "    </tr>\n",
       "    <tr>\n",
       "      <th>1</th>\n",
       "      <td>Ridge</td>\n",
       "      <td>0.987</td>\n",
       "      <td>1.74</td>\n",
       "      <td>4.74</td>\n",
       "      <td>2.18</td>\n",
       "    </tr>\n",
       "    <tr>\n",
       "      <th>2</th>\n",
       "      <td>Lasso</td>\n",
       "      <td>0.986</td>\n",
       "      <td>1.82</td>\n",
       "      <td>5.24</td>\n",
       "      <td>2.29</td>\n",
       "    </tr>\n",
       "    <tr>\n",
       "      <th>3</th>\n",
       "      <td>ElasticNet</td>\n",
       "      <td>0.985</td>\n",
       "      <td>1.83</td>\n",
       "      <td>5.33</td>\n",
       "      <td>2.31</td>\n",
       "    </tr>\n",
       "  </tbody>\n",
       "</table>\n",
       "</div>"
      ],
      "text/plain": [
       "              Model     R2   MAE   MSE  RMSE\n",
       "0  LinearRegression  0.987  1.74  4.74  2.18\n",
       "1             Ridge  0.987  1.74  4.74  2.18\n",
       "2             Lasso  0.986  1.82  5.24  2.29\n",
       "3        ElasticNet  0.985  1.83  5.33  2.31"
      ]
     },
     "execution_count": 111,
     "metadata": {},
     "output_type": "execute_result"
    }
   ],
   "source": [
    "# Tek bir modeli eğitip metrikleri döndüren yardımcı fonksiyondur\n",
    "def evaluate_model(name, model, X_train, X_test, y_train, y_test):\n",
    "    # Modeli eğittik\n",
    "    model.fit(X_train, y_train)\n",
    "    # Test setinde tahmin yaptık\n",
    "    pred = model.predict(X_test)\n",
    "\n",
    "    # Metrikleri hesapladık\n",
    "    r2   = r2_score(y_test, pred)                 # Açıklanan varyans oranı \n",
    "    mae  = mean_absolute_error(y_test, pred)      # Ortalama mutlak hata\n",
    "    mse  = mean_squared_error(y_test, pred)       # Ortalama kare hata \n",
    "    rmse = np.sqrt(mse)                           # Kök ortalama kare hata\n",
    "\n",
    "    # Sonuçları sözlük olarak döndürdük ve yuvarladık\n",
    "    return {\n",
    "        \"Model\": name,\n",
    "        \"R2\": round(r2, 3),\n",
    "        \"MAE\": round(mae, 2),\n",
    "        \"MSE\": round(mse, 2),\n",
    "        \"RMSE\": round(rmse, 2)\n",
    "    }\n",
    "\n",
    "    # Karşılaştırılacak modelleri tanımladık\n",
    "models = [\n",
    "    (\"LinearRegression\", LinearRegression()), # Baz model (düzenleme yok)\n",
    "    (\"Lasso\", Lasso(alpha=1.0)),              # L1 düzenleme\n",
    "    (\"Ridge\", Ridge(alpha=1.0)),              # L2 düzenleme\n",
    "    (\"ElasticNet\", ElasticNet(alpha=1.0)),    # L1+L2 karışımı\n",
    "]\n",
    "\n",
    "# Her model için evaluate_model çalıştırdık\n",
    "results = [evaluate_model(name, mdl, X_train, X_test, y_train, y_test) for name, mdl in models]\n",
    "\n",
    "# Sonuçları tabloya çevirdik, en iyi (düşük hata) üstte olacak şekilde sıraladık\n",
    "results_df = (\n",
    "    pd.DataFrame(results)\n",
    "      .sort_values([\"RMSE\", \"MAE\"], ascending=[True, True])\n",
    "      .reset_index(drop=True)\n",
    ")\n",
    "# Tablomuzu getirdik\n",
    "results_df\n"
   ]
  },
  {
   "cell_type": "markdown",
   "id": "6c746665",
   "metadata": {},
   "source": [
    "* R² Skoru — En yüksek değer (0.987) LinearRegression ve Ridge modellerinde. Bu modeller veriyi çok iyi açıklıyor.\n",
    "\n",
    "* Hata Metrikleri (MAE, MSE, RMSE) — En düşük hata LinearRegression ve Ridge modellerinde, tamamen aynı değerleri vermişler.\n",
    "\n",
    "* Lasso — R² çok az düşük (0.986), ama hata metrikleri biraz daha yüksek.\n",
    "\n",
    "* ElasticNet — Tablodaki en düşük R² (0.985) ve en yüksek hatalara sahip, bu nedenle tercih sebebi değil."
   ]
  },
  {
   "cell_type": "markdown",
   "id": "d2f37688",
   "metadata": {},
   "source": [
    "### * <span style=\"color:red\">Ridge Modeli ile tahmin ve test yapmaya karar verdik. Çünkü diğer modellerle çok yakın sonuçlar elde etmemize rağmen, en düşük hata değerleri Ridge modelinde gözlemledik.</span>"
   ]
  },
  {
   "cell_type": "markdown",
   "id": "129219c5",
   "metadata": {},
   "source": [
    "## 18. 🏔 **Ridge Model Prediction & Metrics Test** / _Ridge Model ile Tahmin ve Metrik Test_\n"
   ]
  },
  {
   "cell_type": "code",
   "execution_count": 112,
   "id": "be2e82f1",
   "metadata": {},
   "outputs": [
    {
     "name": "stdout",
     "output_type": "stream",
     "text": [
      "R2 Score: 0.99\n",
      "Mean Absolute Error: 1.74\n",
      "Mean Squared Error: 4.74\n",
      "Root Mean Squared Error: 2.18\n"
     ]
    }
   ],
   "source": [
    "# Ridge modelini tanımlayalım ve eğitelim\n",
    "from sklearn.linear_model import Ridge\n",
    "\n",
    "ridge_model = Ridge(alpha=1.0)  # alpha: düzenleme (L2) gücü\n",
    "ridge_model.fit(X_train, y_train)\n",
    "\n",
    "# Test setinde tahmin üretelim\n",
    "ridge_predict = ridge_model.predict(X_test)\n",
    "\n",
    "# R2, MAE, MSE, RMSE metriklerini hesaplayalım\n",
    "r2   = r2_score(y_test, ridge_predict)\n",
    "mae  = mean_absolute_error(y_test, ridge_predict)\n",
    "mse  = mean_squared_error(y_test, ridge_predict)\n",
    "rmse = np.sqrt(mse)\n",
    "\n",
    "# Sonuçları yazdıralım\n",
    "print(f'R2 Score: {r2:.2f}')\n",
    "print(f'Mean Absolute Error: {mae:.2f}')\n",
    "print(f'Mean Squared Error: {mse:.2f}')\n",
    "print(f'Root Mean Squared Error: {rmse:.2f}')\n"
   ]
  },
  {
   "cell_type": "markdown",
   "id": "8aa1b771",
   "metadata": {},
   "source": [
    "### 📊 **Model Sonuçları – Ridge Regression**\n",
    "- 1’e yakın değerler → Güçlü tahmin,\n",
    "0.5 civarı → Orta seviye tahmin,\n",
    "0 → Hiçbir açıklayıcılık yok demektir.\n",
    "\n",
    "- **R² Score: 0.99** → 1’e ne kadar yakınsa model o kadar güçlü tahmin yapar. Burada 0.99 değeri, modelin veriyi %99 oranında açıkladığını gösterir.\n",
    "- **MAE (Mean Absolute Error): 1.74** → Tahminlerimiz ile gerçek değerler arasındaki ortalama fark 1.74 birimdir.\n",
    "- **MSE (Mean Squared Error): 4.74** → Hataların karesinin ortalaması. Birimi hedef değişkenin karesidir (ör. puan²). Tek başına yorumlanması zor olduğu için genelde RMSE ile birlikte değerlendirilir.\n",
    "- **RMSE (Root Mean Squared Error): 2.18** → MSE’nin karekökü. Hatanın ortalama büyüklüğünü orijinal birimde verir. Bu, tahminlerimizin gerçek değerden ortalama 2.18 birim sapma gösterdiğini ifade eder.\n",
    "\n",
    "\n",
    "💡 **Özet:** Ridge modeli, yüksek doğruluk ve düşük hata ile **neredeyse birebir tahmin** yapıyor."
   ]
  },
  {
   "cell_type": "code",
   "execution_count": 113,
   "id": "ade2e5d5",
   "metadata": {},
   "outputs": [
    {
     "data": {
      "text/html": [
       "<div>\n",
       "<style scoped>\n",
       "    .dataframe tbody tr th:only-of-type {\n",
       "        vertical-align: middle;\n",
       "    }\n",
       "\n",
       "    .dataframe tbody tr th {\n",
       "        vertical-align: top;\n",
       "    }\n",
       "\n",
       "    .dataframe thead th {\n",
       "        text-align: right;\n",
       "    }\n",
       "</style>\n",
       "<table border=\"1\" class=\"dataframe\">\n",
       "  <thead>\n",
       "    <tr style=\"text-align: right;\">\n",
       "      <th></th>\n",
       "      <th>Real Profit (Gerçek Değer)</th>\n",
       "      <th>Estimated Profit (Tahmin Edilen Değer) (Ridge)</th>\n",
       "    </tr>\n",
       "  </thead>\n",
       "  <tbody>\n",
       "    <tr>\n",
       "      <th>0</th>\n",
       "      <td>25.0</td>\n",
       "      <td>27.883500</td>\n",
       "    </tr>\n",
       "    <tr>\n",
       "      <th>1</th>\n",
       "      <td>72.0</td>\n",
       "      <td>68.646575</td>\n",
       "    </tr>\n",
       "    <tr>\n",
       "      <th>2</th>\n",
       "      <td>74.0</td>\n",
       "      <td>72.407398</td>\n",
       "    </tr>\n",
       "    <tr>\n",
       "      <th>3</th>\n",
       "      <td>70.0</td>\n",
       "      <td>72.114095</td>\n",
       "    </tr>\n",
       "    <tr>\n",
       "      <th>4</th>\n",
       "      <td>61.0</td>\n",
       "      <td>61.779538</td>\n",
       "    </tr>\n",
       "    <tr>\n",
       "      <th>5</th>\n",
       "      <td>90.0</td>\n",
       "      <td>87.769116</td>\n",
       "    </tr>\n",
       "    <tr>\n",
       "      <th>6</th>\n",
       "      <td>24.0</td>\n",
       "      <td>23.742275</td>\n",
       "    </tr>\n",
       "    <tr>\n",
       "      <th>7</th>\n",
       "      <td>68.0</td>\n",
       "      <td>65.114284</td>\n",
       "    </tr>\n",
       "    <tr>\n",
       "      <th>8</th>\n",
       "      <td>40.0</td>\n",
       "      <td>40.993952</td>\n",
       "    </tr>\n",
       "    <tr>\n",
       "      <th>9</th>\n",
       "      <td>45.0</td>\n",
       "      <td>42.241195</td>\n",
       "    </tr>\n",
       "  </tbody>\n",
       "</table>\n",
       "</div>"
      ],
      "text/plain": [
       "   Real Profit (Gerçek Değer)  Estimated Profit (Tahmin Edilen Değer) (Ridge)\n",
       "0                        25.0                                       27.883500\n",
       "1                        72.0                                       68.646575\n",
       "2                        74.0                                       72.407398\n",
       "3                        70.0                                       72.114095\n",
       "4                        61.0                                       61.779538\n",
       "5                        90.0                                       87.769116\n",
       "6                        24.0                                       23.742275\n",
       "7                        68.0                                       65.114284\n",
       "8                        40.0                                       40.993952\n",
       "9                        45.0                                       42.241195"
      ]
     },
     "execution_count": 113,
     "metadata": {},
     "output_type": "execute_result"
    }
   ],
   "source": [
    "# İlk 10 gözlem için Gerçek vs Tahmin tablosu\n",
    "ridge_comparison = pd.DataFrame({\n",
    "    'Real Profit (Gerçek Değer)': y_test.flatten(),\n",
    "    'Estimated Profit (Tahmin Edilen Değer) (Ridge)': ridge_predict.flatten()\n",
    "})\n",
    "\n",
    "ridge_comparison.head(10)\n"
   ]
  },
  {
   "cell_type": "markdown",
   "id": "238356e8",
   "metadata": {},
   "source": [
    "### 📊 Gerçek vs Tahmin Karşılaştırması (Ridge Modeli)\n",
    "\n",
    "- **Real Profit (Gerçek Değer)**: Test setindeki gerçek kâr değerleri  \n",
    "- **Estimated Profit (Tahmin Edilen Değer) (Ridge)**: Ridge modelinin tahminleri  \n",
    "\n",
    "🔍 Tahminler genel olarak gerçek değerlere çok yakındır. "
   ]
  }
 ],
 "metadata": {
  "kernelspec": {
   "display_name": "Python 3",
   "language": "python",
   "name": "python3"
  },
  "language_info": {
   "codemirror_mode": {
    "name": "ipython",
    "version": 3
   },
   "file_extension": ".py",
   "mimetype": "text/x-python",
   "name": "python",
   "nbconvert_exporter": "python",
   "pygments_lexer": "ipython3",
   "version": "3.13.3"
  }
 },
 "nbformat": 4,
 "nbformat_minor": 5
}
